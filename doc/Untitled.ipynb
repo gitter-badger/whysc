{
 "cells": [
  {
   "cell_type": "markdown",
   "metadata": {},
   "source": [
    "# P4EST 学习笔记 "
   ]
  },
  {
   "cell_type": "markdown",
   "metadata": {},
   "source": [
    " * 1. A value of v = 0..7 indicates one same-size neighbor.\n",
    " *    This value is decoded as v = r * 4 + nf, where nf = 0..3 is the\n",
    " *    neighbor's connecting face number and r = 0..1 is the relative\n",
    " *    orientation of the neighbor's face, see p4est_connectivity.h.\n",
    " * 2. A value of v = 8..23 indicates a double-size neighbor.\n",
    " *    This value is decoded as v = 8 + h * 8 + r * 4 + nf, where\n",
    " *    r and nf are as above and h = 0..1 is the number of the subface.\n",
    " * 3. A value of v = -8..-1 indicates two half-size neighbors.\n",
    " *    In this case the corresponding quad_to_quad index points into the\n",
    " *    quad_to_half array which stores two quadrant numbers per index,\n",
    " *    and the orientation of the smaller faces follows from 8 + v.\n",
    " *    The entries of quad_to_half encode between local and ghost quadrant\n",
    " *    in the same way as the quad_to_quad values described above.\n",
    " * A quadrant on the boundary of the forest sees itself and its face number.\n",
    "\n",
    "\n",
    "quad_to_face: 4*NC, q2f\n",
    "\n",
    "0: 0 0 2 2 -> r: 0 0 0 0,  nf: 0 0 2 2\n",
    "6: 1 0 3 10 -> h: 0 0 0 0, r: 0, 0, 0, 0, nf: 0 0 0 2\n",
    "12: -7, 0, -5, 2 -> \n",
    "\n",
    "quad_to_quad: 4*NC, q2q\n",
    "\n",
    "12: 0, 21, 1, 30"
   ]
  }
 ],
 "metadata": {
  "kernelspec": {
   "display_name": "Python 3",
   "language": "python",
   "name": "python3"
  },
  "language_info": {
   "codemirror_mode": {
    "name": "ipython",
    "version": 3
   },
   "file_extension": ".py",
   "mimetype": "text/x-python",
   "name": "python",
   "nbconvert_exporter": "python",
   "pygments_lexer": "ipython3",
   "version": "3.5.2"
  },
  "latex_envs": {
   "bibliofile": "biblio.bib",
   "cite_by": "apalike",
   "current_citInitial": 1,
   "eqLabelWithNumbers": true,
   "eqNumInitial": 0
  }
 },
 "nbformat": 4,
 "nbformat_minor": 2
}
